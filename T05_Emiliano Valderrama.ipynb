{
 "cells": [
  {
   "cell_type": "code",
   "execution_count": 2,
   "id": "714fd9a3",
   "metadata": {},
   "outputs": [],
   "source": [
    "import pandas as pd\n",
    "import numpy as np\n",
    "from sklearn.preprocessing import StandardScaler\n",
    "import statsmodels.api as sm\n",
    "from sklearn.metrics import r2_score\n",
    "from sklearn.linear_model import LinearRegression, Ridge, Lasso\n",
    "from scipy import stats\n",
    "from sklearn.model_selection import train_test_split"
   ]
  },
  {
   "cell_type": "code",
   "execution_count": 76,
   "id": "83e70dde",
   "metadata": {},
   "outputs": [
    {
     "data": {
      "text/html": [
       "<div>\n",
       "<style scoped>\n",
       "    .dataframe tbody tr th:only-of-type {\n",
       "        vertical-align: middle;\n",
       "    }\n",
       "\n",
       "    .dataframe tbody tr th {\n",
       "        vertical-align: top;\n",
       "    }\n",
       "\n",
       "    .dataframe thead th {\n",
       "        text-align: right;\n",
       "    }\n",
       "</style>\n",
       "<table border=\"1\" class=\"dataframe\">\n",
       "  <thead>\n",
       "    <tr style=\"text-align: right;\">\n",
       "      <th></th>\n",
       "      <th>model</th>\n",
       "      <th>mpg</th>\n",
       "      <th>cyl</th>\n",
       "      <th>disp</th>\n",
       "      <th>hp</th>\n",
       "      <th>drat</th>\n",
       "      <th>wt</th>\n",
       "      <th>qsec</th>\n",
       "      <th>vs</th>\n",
       "      <th>am</th>\n",
       "      <th>gear</th>\n",
       "      <th>carb</th>\n",
       "    </tr>\n",
       "  </thead>\n",
       "  <tbody>\n",
       "    <tr>\n",
       "      <th>0</th>\n",
       "      <td>Mazda RX4</td>\n",
       "      <td>21.0</td>\n",
       "      <td>6</td>\n",
       "      <td>160.0</td>\n",
       "      <td>110</td>\n",
       "      <td>3.90</td>\n",
       "      <td>2.620</td>\n",
       "      <td>16.46</td>\n",
       "      <td>0</td>\n",
       "      <td>1</td>\n",
       "      <td>4</td>\n",
       "      <td>4</td>\n",
       "    </tr>\n",
       "    <tr>\n",
       "      <th>1</th>\n",
       "      <td>Mazda RX4 Wag</td>\n",
       "      <td>21.0</td>\n",
       "      <td>6</td>\n",
       "      <td>160.0</td>\n",
       "      <td>110</td>\n",
       "      <td>3.90</td>\n",
       "      <td>2.875</td>\n",
       "      <td>17.02</td>\n",
       "      <td>0</td>\n",
       "      <td>1</td>\n",
       "      <td>4</td>\n",
       "      <td>4</td>\n",
       "    </tr>\n",
       "    <tr>\n",
       "      <th>2</th>\n",
       "      <td>Datsun 710</td>\n",
       "      <td>22.8</td>\n",
       "      <td>4</td>\n",
       "      <td>108.0</td>\n",
       "      <td>93</td>\n",
       "      <td>3.85</td>\n",
       "      <td>2.320</td>\n",
       "      <td>18.61</td>\n",
       "      <td>1</td>\n",
       "      <td>1</td>\n",
       "      <td>4</td>\n",
       "      <td>1</td>\n",
       "    </tr>\n",
       "    <tr>\n",
       "      <th>3</th>\n",
       "      <td>Hornet 4 Drive</td>\n",
       "      <td>21.4</td>\n",
       "      <td>6</td>\n",
       "      <td>258.0</td>\n",
       "      <td>110</td>\n",
       "      <td>3.08</td>\n",
       "      <td>3.215</td>\n",
       "      <td>19.44</td>\n",
       "      <td>1</td>\n",
       "      <td>0</td>\n",
       "      <td>3</td>\n",
       "      <td>1</td>\n",
       "    </tr>\n",
       "    <tr>\n",
       "      <th>4</th>\n",
       "      <td>Hornet Sportabout</td>\n",
       "      <td>18.7</td>\n",
       "      <td>8</td>\n",
       "      <td>360.0</td>\n",
       "      <td>175</td>\n",
       "      <td>3.15</td>\n",
       "      <td>3.440</td>\n",
       "      <td>17.02</td>\n",
       "      <td>0</td>\n",
       "      <td>0</td>\n",
       "      <td>3</td>\n",
       "      <td>2</td>\n",
       "    </tr>\n",
       "  </tbody>\n",
       "</table>\n",
       "</div>"
      ],
      "text/plain": [
       "               model   mpg  cyl   disp   hp  drat     wt   qsec  vs  am  gear  \\\n",
       "0          Mazda RX4  21.0    6  160.0  110  3.90  2.620  16.46   0   1     4   \n",
       "1      Mazda RX4 Wag  21.0    6  160.0  110  3.90  2.875  17.02   0   1     4   \n",
       "2         Datsun 710  22.8    4  108.0   93  3.85  2.320  18.61   1   1     4   \n",
       "3     Hornet 4 Drive  21.4    6  258.0  110  3.08  3.215  19.44   1   0     3   \n",
       "4  Hornet Sportabout  18.7    8  360.0  175  3.15  3.440  17.02   0   0     3   \n",
       "\n",
       "   carb  \n",
       "0     4  \n",
       "1     4  \n",
       "2     1  \n",
       "3     1  \n",
       "4     2  "
      ]
     },
     "execution_count": 76,
     "metadata": {},
     "output_type": "execute_result"
    }
   ],
   "source": [
    "data =  pd.read_excel(\"Motor Trend Car Road Tests.xlsx\")\n",
    "data.head()"
   ]
  },
  {
   "cell_type": "markdown",
   "id": "975641f6",
   "metadata": {},
   "source": [
    "1.1 Realiza una regresión tomando 'mpg' como salida y eliminando la columna 'model'. Considera todos los demás factores como numéricos/ordinales.\n",
    "\n",
    "Calcula el R2 e interpreta los signos de los betas.\n",
    "Realiza un train-test-split donde se use el 40% de los datos para entrenar. Calcula el R2 de entrenamiento y de prueba.\n",
    "Añade regularización L2 con un hiperparámetro lambda decidido por ti. Cambia este valor y compara con varios distintos los R2 de entrenamiento y de prueba.\n"
   ]
  },
  {
   "cell_type": "code",
   "execution_count": 77,
   "id": "09014248",
   "metadata": {},
   "outputs": [],
   "source": [
    "df = data.dropna().drop_duplicates()\n",
    "\n",
    "x = df.drop([\"model\", \"mpg\"], axis=1)\n",
    "y = df[[\"mpg\"]]"
   ]
  },
  {
   "cell_type": "code",
   "execution_count": 78,
   "id": "3f67b7ac",
   "metadata": {},
   "outputs": [
    {
     "data": {
      "text/plain": [
       "array([12.30337416])"
      ]
     },
     "execution_count": 78,
     "metadata": {},
     "output_type": "execute_result"
    }
   ],
   "source": [
    "lr = LinearRegression()\n",
    "lr.fit(x, y)\n",
    "lr.intercept_"
   ]
  },
  {
   "cell_type": "code",
   "execution_count": 79,
   "id": "a9e825af",
   "metadata": {},
   "outputs": [
    {
     "data": {
      "text/plain": [
       "array([[-0.11144048,  0.01333524, -0.02148212,  0.78711097, -3.71530393,\n",
       "         0.82104075,  0.31776281,  2.52022689,  0.65541302, -0.19941925]])"
      ]
     },
     "execution_count": 79,
     "metadata": {},
     "output_type": "execute_result"
    }
   ],
   "source": [
    "lr.coef_"
   ]
  },
  {
   "cell_type": "code",
   "execution_count": 80,
   "id": "edb2ec94",
   "metadata": {},
   "outputs": [
    {
     "data": {
      "text/plain": [
       "0.8690157644777647"
      ]
     },
     "execution_count": 80,
     "metadata": {},
     "output_type": "execute_result"
    }
   ],
   "source": [
    "y_pred = lr.predict(x)\n",
    "r2_score(y, y_pred)"
   ]
  },
  {
   "cell_type": "markdown",
   "id": "57b7aa51",
   "metadata": {},
   "source": [
    "Con las betas que tenemos podemos observar que hay ciertas variables que no tienen mucha relación con el mpg, como lo pueden ser los cilindros, los caballos de fuerza, y el carb. Aunque, para ser honesto diría que algunas de esas variables si podrían tener sentido que tuviesen influencia en el las millas por galón, pues los clindros claro que tienen que ver, y no creo que se muevan de forma contraria. Sin embargo, tenemos un r2 bastante algo así que eso me hace dudar"
   ]
  },
  {
   "cell_type": "markdown",
   "id": "604966b5",
   "metadata": {},
   "source": [
    "## **train-test split**"
   ]
  },
  {
   "cell_type": "code",
   "execution_count": 81,
   "id": "6969a3c4",
   "metadata": {},
   "outputs": [],
   "source": [
    "x_train, x_test, y_train, y_test = train_test_split(x, y, train_size = 0.4, random_state=137)"
   ]
  },
  {
   "cell_type": "code",
   "execution_count": 82,
   "id": "4b62d619",
   "metadata": {},
   "outputs": [],
   "source": [
    "scaler = StandardScaler().fit(x_train)\n",
    "\n",
    "x_train_scaled = scaler.transform(x_train)\n",
    "x_test_scaled = scaler.transform(x_test)"
   ]
  },
  {
   "cell_type": "code",
   "execution_count": 83,
   "id": "99df10d1",
   "metadata": {},
   "outputs": [],
   "source": [
    "rd = Ridge(alpha=1)\n",
    "rd.fit(x_train_scaled, y_train)\n",
    "\n",
    "y_train_pred = rd.predict(x_train_scaled)\n",
    "y_test_pred = rd.predict(x_test_scaled)"
   ]
  },
  {
   "cell_type": "code",
   "execution_count": 84,
   "id": "11194a8e",
   "metadata": {},
   "outputs": [],
   "source": [
    "r2_rd_mpg_train = r2_score(y_train, y_train_pred)\n",
    "r2_rd_mpg_test = r2_score(y_test, y_test_pred) "
   ]
  },
  {
   "cell_type": "code",
   "execution_count": 85,
   "id": "8e954834",
   "metadata": {},
   "outputs": [
    {
     "name": "stdout",
     "output_type": "stream",
     "text": [
      "Alpha: 1\n",
      "  Intercepto: [17.43333333]\n",
      "  Coeficientes: [[-1.80358779 -1.2857849   1.01328527  1.67274528 -0.7201921   1.26762625\n",
      "   0.01863527  1.40125429 -1.20813325 -0.75672773]]\n",
      "  R²_test: 0.5910911509384542\n",
      "  R²_train: 0.9386746881405903\n",
      "----------------------------------------\n",
      "Alpha: 2\n",
      "  Intercepto: [17.43333333]\n",
      "  Coeficientes: [[-1.55710774 -1.04129282  0.27022389  1.30415131 -0.78349879  0.95871328\n",
      "   0.16070631  1.20840106 -0.64674854 -0.65854085]]\n",
      "  R²_test: 0.6660803311091934\n",
      "  R²_train: 0.9386746881405903\n",
      "----------------------------------------\n",
      "Alpha: 3\n",
      "  Intercepto: [17.43333333]\n",
      "  Coeficientes: [[-1.41075875 -0.95972866 -0.03154439  1.13631442 -0.79865506  0.81845189\n",
      "   0.24098542  1.09006687 -0.38665798 -0.61529874]]\n",
      "  R²_test: 0.6993439461168738\n",
      "  R²_train: 0.9386746881405903\n",
      "----------------------------------------\n",
      "Alpha: 4\n",
      "  Intercepto: [17.43333333]\n",
      "  Coeficientes: [[-1.31213813 -0.91893497 -0.18947303  1.03589255 -0.80190612  0.73513012\n",
      "   0.29411726  1.00538039 -0.23661717 -0.58640291]]\n",
      "  R²_test: 0.7193090279464538\n",
      "  R²_train: 0.9386746881405903\n",
      "----------------------------------------\n",
      "Alpha: 5\n",
      "  Intercepto: [17.43333333]\n",
      "  Coeficientes: [[-1.23960164 -0.89297442 -0.28340356  0.96665278 -0.80004285  0.67852567\n",
      "   0.33181042  0.94023024 -0.13951528 -0.56382654]]\n",
      "  R²_test: 0.732967800498413\n",
      "  R²_train: 0.9386746881405903\n",
      "----------------------------------------\n",
      "Alpha: 6\n",
      "  Intercepto: [17.43333333]\n",
      "  Coeficientes: [[-1.18292305 -0.87361806 -0.34366832  0.91460739 -0.79540291  0.6368153\n",
      "   0.35957396  0.88778787 -0.0720549  -0.54491826]]\n",
      "  R²_test: 0.7429210458148271\n",
      "  R²_train: 0.9386746881405903\n",
      "----------------------------------------\n",
      "Alpha: 7\n",
      "  Intercepto: [17.43333333]\n",
      "  Coeficientes: [[-1.13666017 -0.85763004 -0.38423399  0.87317505 -0.78909108  0.60434119\n",
      "   0.38047954  0.84420248 -0.0228923  -0.52848997]]\n",
      "  R²_test: 0.7503836231366223\n",
      "  R²_train: 0.9386746881405903\n",
      "----------------------------------------\n",
      "Alpha: 8\n",
      "  Intercepto: [17.43333333]\n",
      "  Coeficientes: [[-1.09764818 -0.843552   -0.4123876   0.83883129 -0.78172598  0.57802814\n",
      "   0.3964218   0.8070956   0.0141784  -0.51389233]]\n",
      "  R²_test: 0.75601532367112\n",
      "  R²_train: 0.9386746881405903\n",
      "----------------------------------------\n",
      "Alpha: 9\n",
      "  Intercepto: [17.43333333]\n",
      "  Coeficientes: [[-1.06391844 -0.83066073 -0.43228329  0.80950698 -0.77368873  0.55605074\n",
      "   0.40865036  0.77490353  0.04284638 -0.5007209 ]]\n",
      "  R²_test: 0.7602161894239378\n",
      "  R²_train: 0.9386746881405903\n",
      "----------------------------------------\n",
      "Alpha: 10\n",
      "  Intercepto: [17.43333333]\n",
      "  Coeficientes: [[-1.03418007 -0.81857091 -0.44645182  0.78390085 -0.76522818  0.53725291\n",
      "   0.41802987  0.74654923  0.06544585 -0.48870091]]\n",
      "  R²_test: 0.7632502786243675\n",
      "  R²_train: 0.9386746881405903\n",
      "----------------------------------------\n"
     ]
    }
   ],
   "source": [
    "for alpha in range(1, 11):  # valores de 1 a 10\n",
    "    rd = Ridge(alpha=alpha)\n",
    "    rd.fit(x_train_scaled, y_train)\n",
    "    \n",
    "    y_train_pred_rd = rd.predict(x_train_scaled)\n",
    "    y_test_pred= rd.predict(x_test_scaled)\n",
    "    \n",
    "    r2_test = r2_score(y_test, y_test_pred)\n",
    "    r2_train = r2_score(y_train, y_train_pred)\n",
    "    \n",
    "    print(f\"Alpha: {alpha}\")\n",
    "    print(f\"  Intercepto: {rd.intercept_}\")\n",
    "    print(f\"  Coeficientes: {rd.coef_}\")\n",
    "    print(f\"  R²_test: {r2_test}\")\n",
    "    print(f\"  R²_train: {r2_train}\")\n",
    "    print(\"-\" * 40)\n"
   ]
  },
  {
   "cell_type": "markdown",
   "id": "53e1581e",
   "metadata": {},
   "source": [
    "Teniendo estos resultados de las r2 y de las betas podemos ver que existe mucho sobreajuste entre r2_test y train, ya que a pesar de que en el alpha 10 se están acercando más, aún así tienen cierta distancia entre uno y otro. \n",
    "Además, me brinca un poco también el hecho de que haga varias betas negativas, y no coinciden con las mismas de LinearRegression. "
   ]
  },
  {
   "cell_type": "markdown",
   "id": "d05dffe3",
   "metadata": {},
   "source": [
    "**1.2 Repite el ejercicio anterior usando 'qsec' como salida.**"
   ]
  },
  {
   "cell_type": "code",
   "execution_count": 86,
   "id": "29b8bdfe",
   "metadata": {},
   "outputs": [],
   "source": [
    "x = df.drop([\"model\", \"qsec\"], axis=1)\n",
    "y = df[[\"qsec\"]]"
   ]
  },
  {
   "cell_type": "code",
   "execution_count": 87,
   "id": "11fca2f8",
   "metadata": {},
   "outputs": [
    {
     "data": {
      "text/plain": [
       "(array([17.77617693]),\n",
       " array([[ 0.06904768, -0.36267823, -0.00750084, -0.00156255, -0.1310636 ,\n",
       "          1.49633224,  0.97003474, -0.90118641, -0.20128511, -0.27359751]]))"
      ]
     },
     "execution_count": 87,
     "metadata": {},
     "output_type": "execute_result"
    }
   ],
   "source": [
    "lr = LinearRegression()\n",
    "lr.fit(x, y)\n",
    "lr.intercept_, lr.coef_"
   ]
  },
  {
   "cell_type": "code",
   "execution_count": 88,
   "id": "983ee8d8",
   "metadata": {},
   "outputs": [
    {
     "data": {
      "text/plain": [
       "0.8746925777093999"
      ]
     },
     "execution_count": 88,
     "metadata": {},
     "output_type": "execute_result"
    }
   ],
   "source": [
    "y_pred = lr.predict(x)\n",
    "r2_score(y, y_pred)"
   ]
  },
  {
   "cell_type": "markdown",
   "id": "a3618a0c",
   "metadata": {},
   "source": [
    "## train-test spli"
   ]
  },
  {
   "cell_type": "code",
   "execution_count": 89,
   "id": "654a3d23",
   "metadata": {},
   "outputs": [],
   "source": [
    "x_train, x_test, y_train, y_test = train_test_split(x, y, train_size = 0.4, random_state=137)\n",
    "\n",
    "scaler = StandardScaler().fit(x_train)\n",
    "\n",
    "x_train_scaled = scaler.transform(x_train)\n",
    "x_test_scaled = scaler.transform(x_test)\n",
    "\n",
    "rd = Ridge(alpha=1)\n",
    "rd.fit(x_train_scaled, y_train)\n",
    "\n",
    "y_train_pred = rd.predict(x_train_scaled)\n",
    "y_test_pred = rd.predict(x_test_scaled)\n",
    "\n",
    "r2_rd_qsec_train = r2_score(y_train, y_train_pred)\n",
    "r2_rd_qsec_test = r2_score(y_test, y_test_pred) "
   ]
  },
  {
   "cell_type": "code",
   "execution_count": 90,
   "id": "d5c07ad4",
   "metadata": {},
   "outputs": [
    {
     "name": "stdout",
     "output_type": "stream",
     "text": [
      "Alpha: 1\n",
      " Intercepto: [17.37333333]\n",
      " Coeficientes: [[ 0.32243014 -0.423128   -0.09911909 -0.48174143 -0.47038265  0.50302442\n",
      "   0.45486151 -0.00142143 -0.19343426 -0.27205226]]\n",
      " R²_test: 0.6535717344645453\n",
      " R²_train: 0.9671802657602482\n",
      "----------------------------------------\n",
      "Alpha: 2\n",
      " Intercepto: [17.37333333]\n",
      " Coeficientes: [[ 0.26542739 -0.41081973 -0.09181096 -0.43831053 -0.38500361  0.38696105\n",
      "   0.43204172 -0.0613563  -0.23679189 -0.26759015]]\n",
      " R²_test: 0.6575165192963931\n",
      " R²_train: 0.9562802655200474\n",
      "----------------------------------------\n",
      "Alpha: 3\n",
      " Intercepto: [17.37333333]\n",
      " Coeficientes: [[ 0.23649211 -0.38707656 -0.09242538 -0.41333718 -0.33564151  0.31680413\n",
      "   0.41175484 -0.09645126 -0.25048246 -0.26808909]]\n",
      " R²_test: 0.6546296940253327\n",
      " R²_train: 0.9460042375824835\n",
      "----------------------------------------\n",
      "Alpha: 4\n",
      " Intercepto: [17.37333333]\n",
      " Coeficientes: [[ 0.21764208 -0.3648474  -0.09452839 -0.39531986 -0.30214276  0.26819891\n",
      "   0.39376069 -0.11802265 -0.25488685 -0.2689315 ]]\n",
      " R²_test: 0.6494165391946614\n",
      " R²_train: 0.9363105653521357\n",
      "----------------------------------------\n",
      "Alpha: 5\n",
      " Intercepto: [17.37333333]\n",
      " Coeficientes: [[ 0.20393266 -0.34551129 -0.09661284 -0.38095023 -0.2773565   0.23202228\n",
      "   0.37773643 -0.13173867 -0.2553161  -0.26916916]]\n",
      " R²_test: 0.643236817038636\n",
      " R²_train: 0.9270636591216211\n",
      "----------------------------------------\n",
      "Alpha: 6\n",
      " Intercepto: [17.37333333]\n",
      " Coeficientes: [[ 0.19329888 -0.32882147 -0.09832867 -0.36881846 -0.25795333  0.20384871\n",
      "   0.36337745 -0.14058243 -0.25375451 -0.26869014]]\n",
      " R²_test: 0.6366315106820868\n",
      " R²_train: 0.9181443631061759\n",
      "----------------------------------------\n",
      "Alpha: 7\n",
      " Intercepto: [17.37333333]\n",
      " Coeficientes: [[ 0.18468488 -0.31431992 -0.09963185 -0.35820202 -0.24214658  0.1811996\n",
      "   0.35042361 -0.14624897 -0.25110491 -0.26758036]]\n",
      " R²_test: 0.6298452400976833\n",
      " R²_train: 0.9094653030830805\n",
      "----------------------------------------\n",
      "Alpha: 8\n",
      " Intercepto: [17.37333333]\n",
      " Coeficientes: [[ 0.17748249 -0.30159382 -0.10056157 -0.3486859  -0.22888372  0.16255368\n",
      "   0.33866037 -0.1497637  -0.24783385 -0.26596071]]\n",
      " R²_test: 0.6229976451224071\n",
      " R²_train: 0.9009662112493069\n",
      "----------------------------------------\n",
      "Alpha: 9\n",
      " Intercepto: [17.37333333]\n",
      " Coeficientes: [[ 0.1713126  -0.29031184 -0.10117476 -0.34001171 -0.21750108  0.14691555\n",
      "   0.3279127  -0.15177857 -0.2442047  -0.26394359]]\n",
      " R²_test: 0.6161504698981436\n",
      " R²_train: 0.8926067720330717\n",
      "----------------------------------------\n",
      "Alpha: 10\n",
      " Intercepto: [17.37333333]\n",
      " Coeficientes: [[ 0.16592503 -0.28021537 -0.10152627 -0.33200838 -0.20755761  0.13360208\n",
      "   0.31803792 -0.15272489 -0.24037584 -0.26162307]]\n",
      " R²_test: 0.6093368477249675\n",
      " R²_train: 0.8843606593441767\n",
      "----------------------------------------\n"
     ]
    }
   ],
   "source": [
    "x_train, x_test, y_train, y_test = train_test_split(x, y, train_size = 0.4, random_state=137)\n",
    "\n",
    "scaler = StandardScaler().fit(x_train)\n",
    "\n",
    "x_train_scaled = scaler.transform(x_train)\n",
    "x_test_scaled = scaler.transform(x_test)\n",
    "\n",
    "for alpha in range(1, 11):  # valores de 1 a 10\n",
    "    rd = Ridge(alpha=alpha)\n",
    "    rd.fit(x_train_scaled, y_train)\n",
    "    \n",
    "    y_train_pred_rd = rd.predict(x_train_scaled)\n",
    "    y_test_pred_rd = rd.predict(x_test_scaled)\n",
    "    \n",
    "    r2_test = r2_score(y_test, y_test_pred_rd)\n",
    "    r2_train = r2_score(y_train, y_train_pred_rd)\n",
    "    \n",
    "    print(f\"Alpha: {alpha}\")\n",
    "    print(f\" Intercepto: {rd.intercept_}\")\n",
    "    print(f\" Coeficientes: {rd.coef_}\")\n",
    "    print(f\" R²_test: {r2_test}\")\n",
    "    print(f\" R²_train: {r2_train}\")\n",
    "    print(\"-\" * 40)\n"
   ]
  },
  {
   "cell_type": "markdown",
   "id": "1314000a",
   "metadata": {},
   "source": [
    "En este análisis y resultados podemos notar que existe algo inusual, puesto que en los otros modelos a medida de que se iba incrementando el alpha el r2 lo hacía también, pero aquí esta ocurriendo lo contrario. Además, también se incrementaron los betas negativos, por lo que menos tienen influencia en qsec. \n",
    "Diría que también existe un sobreajuste, ya que hay mucha diferencia entre ambas r2."
   ]
  },
  {
   "cell_type": "markdown",
   "id": "0b5e7bbd",
   "metadata": {},
   "source": [
    "**2.1 Realiza una regresión tomando 'mpg' como salida y eliminando la columna 'model'. Crea columnas dummies para los factores 'cyl', 'gear' y 'carb'.**\n",
    "\n",
    "Calcula el R2 e interpreta los signos de los betas."
   ]
  },
  {
   "cell_type": "code",
   "execution_count": 91,
   "id": "07abe714",
   "metadata": {},
   "outputs": [],
   "source": [
    "df = pd.get_dummies(df, columns=[\"cyl\", \"gear\", \"carb\"], drop_first=True)"
   ]
  },
  {
   "cell_type": "code",
   "execution_count": 92,
   "id": "b2b59577",
   "metadata": {},
   "outputs": [],
   "source": [
    "x = df.drop([\"model\", \"mpg\"], axis=1)\n",
    "y = df[[\"mpg\"]]"
   ]
  },
  {
   "cell_type": "code",
   "execution_count": 93,
   "id": "49a0a970",
   "metadata": {},
   "outputs": [
    {
     "data": {
      "text/plain": [
       "(array([23.87913244]),\n",
       " array([[ 0.03554632, -0.07050683,  1.18283018, -4.52977584,  0.36784482,\n",
       "          1.93085054,  1.2121157 , -2.64869528, -0.33616298,  1.11435494,\n",
       "          2.52839599, -0.97935432,  2.99963875,  1.09142288,  4.47756921,\n",
       "          7.25041126]]))"
      ]
     },
     "execution_count": 93,
     "metadata": {},
     "output_type": "execute_result"
    }
   ],
   "source": [
    "lr = LinearRegression()\n",
    "lr.fit(x, y)\n",
    "\n",
    "lr.intercept_, lr.coef_"
   ]
  },
  {
   "cell_type": "code",
   "execution_count": 94,
   "id": "c287e4e5",
   "metadata": {},
   "outputs": [],
   "source": [
    "y_pred = lr.predict(x)\n",
    "\n",
    "r2_dum_mpg = r2_score(y, y_pred)"
   ]
  },
  {
   "cell_type": "markdown",
   "id": "311bc994",
   "metadata": {},
   "source": [
    "Ahora habiendo hecho el data frame dummies, esto nos puede ayudar a que podamos observar con claridad cuales son las variables que tienen mayor influencia en el mpg de salida, que por ejemplo en el caso del carb solo afecta al número 2.\n",
    "Y en cuanto al r2 si nos da bastante alto para considerarlo un buen modelo. "
   ]
  },
  {
   "cell_type": "markdown",
   "id": "e5f38b42",
   "metadata": {},
   "source": [
    "#### Realiza un train-test-split donde se use el 40% de los datos para entrenar. Calcula el R2 de entrenamiento y de prueba."
   ]
  },
  {
   "cell_type": "code",
   "execution_count": 95,
   "id": "ee34985b",
   "metadata": {},
   "outputs": [],
   "source": [
    "x_train, x_test, y_train, y_test = train_test_split(x, y, train_size = 0.4, random_state=137)\n",
    "\n",
    "scaler = StandardScaler().fit(x_train)\n",
    "\n",
    "x_train_scaled = scaler.transform(x_train)\n",
    "x_test_scaled = scaler.transform(x_test)"
   ]
  },
  {
   "cell_type": "code",
   "execution_count": 96,
   "id": "c486446b",
   "metadata": {},
   "outputs": [
    {
     "data": {
      "text/plain": [
       "(1.0, 0.11565160877658709)"
      ]
     },
     "execution_count": 96,
     "metadata": {},
     "output_type": "execute_result"
    }
   ],
   "source": [
    "lr = LinearRegression()\n",
    "lr.fit(x_train_scaled, y_train)\n",
    "\n",
    "y_train_pred = lr.predict(x_train_scaled)\n",
    "y_test_pred = lr.predict(x_test_scaled)\n",
    "\n",
    "r2_dum_mpg_train = r2_score(y_train, y_train_pred)\n",
    "r2_dum_mpg_test = r2_score(y_test, y_test_pred)\n",
    "\n",
    "r2_dum_mpg_train, r2_dum_mpg_test"
   ]
  },
  {
   "cell_type": "markdown",
   "id": "e9d945b9",
   "metadata": {},
   "source": [
    "2.2 Repite el ejercicio anterior usando 'qsec' como salida."
   ]
  },
  {
   "cell_type": "code",
   "execution_count": 97,
   "id": "5e13deca",
   "metadata": {},
   "outputs": [],
   "source": [
    "x = df.drop([\"model\", \"qsec\"], axis=1)\n",
    "y = df[[\"qsec\"]]"
   ]
  },
  {
   "cell_type": "code",
   "execution_count": 98,
   "id": "61b6f714",
   "metadata": {},
   "outputs": [
    {
     "data": {
      "text/plain": [
       "(array([16.3491375]),\n",
       " array([[ 2.77413839e-02,  3.53115688e-03, -2.06618843e-03,\n",
       "          1.07865814e-01,  8.10472140e-01,  2.65732208e-01,\n",
       "         -1.69429351e+00, -1.10434255e+00, -2.96690068e+00,\n",
       "          1.33228234e+00,  1.82317492e-01, -8.34412978e-01,\n",
       "         -2.29304367e-01, -1.94703381e+00, -1.56524104e+00,\n",
       "         -1.33231717e+00]]))"
      ]
     },
     "execution_count": 98,
     "metadata": {},
     "output_type": "execute_result"
    }
   ],
   "source": [
    "lr = LinearRegression()\n",
    "lr.fit(x, y)\n",
    "\n",
    "lr.intercept_, lr.coef_"
   ]
  },
  {
   "cell_type": "code",
   "execution_count": 99,
   "id": "f92b6799",
   "metadata": {},
   "outputs": [
    {
     "data": {
      "text/plain": [
       "0.9082689440167556"
      ]
     },
     "execution_count": 99,
     "metadata": {},
     "output_type": "execute_result"
    }
   ],
   "source": [
    "y_pred = lr.predict(x)\n",
    "\n",
    "r2_dum_qsec = r2_score(y, y_pred)\n",
    "r2_dum_qsec"
   ]
  },
  {
   "cell_type": "markdown",
   "id": "8e28ebc2",
   "metadata": {},
   "source": [
    "#### Separando en trian y test"
   ]
  },
  {
   "cell_type": "code",
   "execution_count": 100,
   "id": "cf730332",
   "metadata": {},
   "outputs": [],
   "source": [
    "x_train, x_test, y_train, y_test = train_test_split(x, y, train_size = 0.4, random_state=137)\n",
    "\n",
    "scaler = StandardScaler().fit(x_train)\n",
    "\n",
    "x_train_scaled = scaler.transform(x_train)\n",
    "x_test_scaled = scaler.transform(x_test)"
   ]
  },
  {
   "cell_type": "code",
   "execution_count": 101,
   "id": "ef6bc273",
   "metadata": {},
   "outputs": [
    {
     "data": {
      "text/plain": [
       "(1.0, -2.3927070726210173)"
      ]
     },
     "execution_count": 101,
     "metadata": {},
     "output_type": "execute_result"
    }
   ],
   "source": [
    "lr = LinearRegression()\n",
    "lr.fit(x_train_scaled, y_train)\n",
    "\n",
    "y_train_pred = lr.predict(x_train_scaled)\n",
    "y_test_pred = lr.predict(x_test_scaled)\n",
    "\n",
    "r2_dum_qsec_train = r2_score(y_train, y_train_pred)\n",
    "r2_dum_qsec_test = r2_score(y_test, y_test_pred)\n",
    "\n",
    "r2_dum_qsec_train, r2_dum_qsec_test"
   ]
  },
  {
   "cell_type": "markdown",
   "id": "db466b5f",
   "metadata": {},
   "source": [
    "**3.1 Compara los R2 de los ejercicios 1.1 & 2.1.**\n",
    "\n",
    "**3.2 Compara los R2 de los ejercicios 1.2 & 2.2.**"
   ]
  },
  {
   "cell_type": "code",
   "execution_count": 103,
   "id": "cca435c2",
   "metadata": {},
   "outputs": [
    {
     "name": "stdout",
     "output_type": "stream",
     "text": [
      "R2 Ridge train qsec:0.9671802657602482 vs R2 dummies train qsec: 1.0\n",
      "R2 Ridge test qsec:0.6535717344645453 vs R2 dummies test qsec: -2.3927070726210173\n",
      "   \n",
      "R2 Ridge train mpg:0.9386746881405903 vs R2 dummies train mpg: 1.0\n",
      "R2 Ridge test mpg:0.5910911509384542 vs R2 dummies test mpg: 0.11565160877658709\n"
     ]
    }
   ],
   "source": [
    "print(f\"R2 Ridge train qsec:{r2_rd_qsec_train} vs R2 dummies train qsec: {r2_dum_qsec_train}\") \n",
    "print(f\"R2 Ridge test qsec:{r2_rd_qsec_test} vs R2 dummies test qsec: {r2_dum_qsec_test}\") \n",
    "\n",
    "print(\"   \")\n",
    "\n",
    "print(f\"R2 Ridge train mpg:{r2_rd_mpg_train} vs R2 dummies train mpg: {r2_dum_mpg_train}\") \n",
    "print(f\"R2 Ridge test mpg:{r2_rd_mpg_test} vs R2 dummies test mpg: {r2_dum_mpg_test}\") "
   ]
  },
  {
   "cell_type": "markdown",
   "id": "e0ceb982",
   "metadata": {},
   "source": [
    "En conclusión como se puede observar no obtuve buenos resultados en los dommies de los 4 r2. Me brinca la tanta diferencia que exista entre los r2, por lo que 100% podemos ver que exite overfitting. Y al obtener r2 de 1 vemos que se aprendió demasiado los datos y cuando le muestras algo distinto no es capaz de predecir con ello.\n",
    "\n",
    "En cuando a Ridge si me dio muy bien. Bueno, si existe un poco de diferencia pero al menos no tanta como en dummies."
   ]
  }
 ],
 "metadata": {
  "kernelspec": {
   "display_name": "Python 3 (ipykernel)",
   "language": "python",
   "name": "python3"
  },
  "language_info": {
   "codemirror_mode": {
    "name": "ipython",
    "version": 3
   },
   "file_extension": ".py",
   "mimetype": "text/x-python",
   "name": "python",
   "nbconvert_exporter": "python",
   "pygments_lexer": "ipython3",
   "version": "3.11.4"
  }
 },
 "nbformat": 4,
 "nbformat_minor": 5
}
