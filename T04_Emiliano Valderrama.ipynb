{
 "cells": [
  {
   "cell_type": "markdown",
   "id": "2e2753e4-9dc7-41d7-b080-d1abfbb16b28",
   "metadata": {},
   "source": [
    "# Laboratorio de regresión - 4"
   ]
  },
  {
   "cell_type": "markdown",
   "id": "c396ea70-b88c-4346-a14f-4aa7ca2e1b00",
   "metadata": {},
   "source": [
    "|                |   |\n",
    ":----------------|---|\n",
    "| **Nombre**     | Emiliano Valderrama del Toro  |\n",
    "| **Fecha**      |  06/09/2025 \n",
    "| **Expediente** |  744673 |"
   ]
  },
  {
   "cell_type": "markdown",
   "id": "77def53e-10bf-474e-acdf-728e07bef102",
   "metadata": {},
   "source": [
    "## Modelos penalizados"
   ]
  },
  {
   "cell_type": "markdown",
   "id": "d9bb791d-1843-4b4d-bd8b-69e6419511e8",
   "metadata": {},
   "source": [
    "Hasta ahora la función de costo que usamos para decidir qué tan bueno es nuestro modelo al momento de ajustar es:\n",
    "\n",
    "$$ \\text{RSS} = \\sum_{i=1}^n e_i^2 = \\sum_{i=1}^n (y_i - \\hat{y_i})^2 $$"
   ]
  },
  {
   "cell_type": "markdown",
   "id": "4e6b5e6b-abe9-4b75-b045-e4444de4fc35",
   "metadata": {},
   "source": [
    "Dado que los errores obtenidos son una combinación de sesgo y varianza, puede ser que se sesgue un parámetro para minimizar el error. Esto significa que el modelo puede decidir que la salida no sea una combinación de los factores, sino una fuerte predilección sobre uno de los factores solamente. "
   ]
  },
  {
   "cell_type": "markdown",
   "id": "84901f9e-5551-455a-a70c-c7e39d9e55ae",
   "metadata": {},
   "source": [
    "E.g. se quiere ajustar un modelo\n",
    "\n",
    "$$ \\hat{z} = \\hat{\\beta_0} + \\hat{\\beta_1} x + \\hat{\\beta_2} y $$"
   ]
  },
  {
   "cell_type": "markdown",
   "id": "d6f473fc-6364-4b15-9bd4-f21a94cae151",
   "metadata": {},
   "source": [
    "Se ajusta el modelo y se decide que la mejor decisión es $\\hat{\\beta_1} = 10000$ y $\\hat{\\beta_2}=50$. Considera limitaciones de problemas reales:\n",
    "- Quizás los parámetros son ajustes de maquinaria que se deben realizar para conseguir el mejor producto posible, y que $10000$ sea imposible de asignar.\n",
    "- Quizás los datos actuales están sesgados y sólo hacen parecer que uno de los factores importa más que el otro."
   ]
  },
  {
   "cell_type": "markdown",
   "id": "ff32fbaa-7965-42c1-9b73-3640414b77f2",
   "metadata": {},
   "source": [
    "Una de las formas en las que se puede mitigar este problema es penalizando a los parámetros del modelo, cambiando la función de costo:"
   ]
  },
  {
   "cell_type": "markdown",
   "id": "3fc78736-9d8e-4e8b-94f3-6647bdaeb0d1",
   "metadata": {},
   "source": [
    "$$ \\text{RSS}_{L2} = \\sum_{i=1}^n e_i^2  + \\lambda \\sum_{j=1}^p \\hat{\\beta_j}^2 $$"
   ]
  },
  {
   "cell_type": "markdown",
   "id": "2d942bf5-fb39-44a0-b612-4ec05ab99b71",
   "metadata": {},
   "source": [
    "El *L2* significa que se está agregando una penalización de segundo orden. Lo que hace esta penalización es que los factores ahora sólo tendrán permitido crecer si hay una reducción al menos proporcional en el error (sacrificamos sesgo, pero reducimos la varianza)."
   ]
  },
  {
   "cell_type": "markdown",
   "id": "45c0cafb-c152-48e4-a345-bb5348eb16c7",
   "metadata": {},
   "source": [
    "Asimismo, existe la penalización *L1*"
   ]
  },
  {
   "cell_type": "markdown",
   "id": "9d9f2d93-d151-47ed-834f-4a7e91e94286",
   "metadata": {},
   "source": [
    "$$ \\text{RSS}_{L1} = \\sum_{i=1}^n e_i^2  + \\lambda \\sum_{j=1}^p |\\hat{\\beta_j}| $$"
   ]
  },
  {
   "cell_type": "markdown",
   "id": "ea95f232-25ab-4b4c-99b3-075a18878d95",
   "metadata": {},
   "source": [
    "A las penalizaciones *L2* y *L1* se les conoce también como Ridge y Lasso, respectivamente."
   ]
  },
  {
   "cell_type": "markdown",
   "id": "e41dfafb-fd1f-475a-a718-dec1e3773326",
   "metadata": {},
   "source": [
    "Para realizar una regresión con penalización de Ridge o de Lasso usamos el objeto `Ridge(alpha=?)` o `Lasso(alpha=?)` en lugar de `LinearRegression()` de `sklearn`."
   ]
  },
  {
   "cell_type": "markdown",
   "id": "ce36cb41-005e-4cb0-b8ab-92e6ae6c4c19",
   "metadata": {},
   "source": [
    "Utiliza el dataset de publicidad (Advertising.csv) y realiza 3 regresiones múltiples:\n",
    "\n",
    "$$ \\text{sales} = \\beta_0 + \\beta_1 (\\text{TV}) + \\beta_2 (\\text{radio}) + \\beta_3 (\\text{newspaper}) + \\epsilon $$"
   ]
  },
  {
   "cell_type": "markdown",
   "id": "d92e4008-ada1-4e82-9756-23fd357821d2",
   "metadata": {},
   "source": [
    "1. Sin penalización\n",
    "2. Con penalización L2\n",
    "3. Con penalización L1\n",
    "\n",
    "Compara los resultados de los parámetros y sus *p-values*, y los $R^2$ resultantes."
   ]
  },
  {
   "cell_type": "code",
   "execution_count": 68,
   "id": "489b6c52-9025-4ca7-8e96-ca70c294cf7c",
   "metadata": {},
   "outputs": [],
   "source": [
    "import pandas as pd\n",
    "import numpy as np\n",
    "from sklearn.preprocessing import StandardScaler\n",
    "import statsmodels.api as sm\n",
    "from sklearn.metrics import r2_score\n",
    "from sklearn.linear_model import LinearRegression, Ridge, Lasso\n",
    "from scipy import stats"
   ]
  },
  {
   "cell_type": "code",
   "execution_count": 190,
   "id": "6f859166-06cf-478e-89d7-e6e5c2cb5ff0",
   "metadata": {},
   "outputs": [
    {
     "data": {
      "text/html": [
       "<div>\n",
       "<style scoped>\n",
       "    .dataframe tbody tr th:only-of-type {\n",
       "        vertical-align: middle;\n",
       "    }\n",
       "\n",
       "    .dataframe tbody tr th {\n",
       "        vertical-align: top;\n",
       "    }\n",
       "\n",
       "    .dataframe thead th {\n",
       "        text-align: right;\n",
       "    }\n",
       "</style>\n",
       "<table border=\"1\" class=\"dataframe\">\n",
       "  <thead>\n",
       "    <tr style=\"text-align: right;\">\n",
       "      <th></th>\n",
       "      <th>Unnamed: 0</th>\n",
       "      <th>TV</th>\n",
       "      <th>radio</th>\n",
       "      <th>newspaper</th>\n",
       "      <th>sales</th>\n",
       "    </tr>\n",
       "  </thead>\n",
       "  <tbody>\n",
       "    <tr>\n",
       "      <th>0</th>\n",
       "      <td>1</td>\n",
       "      <td>230.10000000</td>\n",
       "      <td>37.80000000</td>\n",
       "      <td>69.20000000</td>\n",
       "      <td>22.10000000</td>\n",
       "    </tr>\n",
       "    <tr>\n",
       "      <th>1</th>\n",
       "      <td>2</td>\n",
       "      <td>44.50000000</td>\n",
       "      <td>39.30000000</td>\n",
       "      <td>45.10000000</td>\n",
       "      <td>10.40000000</td>\n",
       "    </tr>\n",
       "    <tr>\n",
       "      <th>2</th>\n",
       "      <td>3</td>\n",
       "      <td>17.20000000</td>\n",
       "      <td>45.90000000</td>\n",
       "      <td>69.30000000</td>\n",
       "      <td>9.30000000</td>\n",
       "    </tr>\n",
       "    <tr>\n",
       "      <th>3</th>\n",
       "      <td>4</td>\n",
       "      <td>151.50000000</td>\n",
       "      <td>41.30000000</td>\n",
       "      <td>58.50000000</td>\n",
       "      <td>18.50000000</td>\n",
       "    </tr>\n",
       "    <tr>\n",
       "      <th>4</th>\n",
       "      <td>5</td>\n",
       "      <td>180.80000000</td>\n",
       "      <td>10.80000000</td>\n",
       "      <td>58.40000000</td>\n",
       "      <td>12.90000000</td>\n",
       "    </tr>\n",
       "  </tbody>\n",
       "</table>\n",
       "</div>"
      ],
      "text/plain": [
       "   Unnamed: 0           TV       radio   newspaper       sales\n",
       "0           1 230.10000000 37.80000000 69.20000000 22.10000000\n",
       "1           2  44.50000000 39.30000000 45.10000000 10.40000000\n",
       "2           3  17.20000000 45.90000000 69.30000000  9.30000000\n",
       "3           4 151.50000000 41.30000000 58.50000000 18.50000000\n",
       "4           5 180.80000000 10.80000000 58.40000000 12.90000000"
      ]
     },
     "execution_count": 190,
     "metadata": {},
     "output_type": "execute_result"
    }
   ],
   "source": [
    "data = pd.read_csv(\"Advertising.csv\")\n",
    "data.head()"
   ]
  },
  {
   "cell_type": "code",
   "execution_count": 191,
   "id": "ee8922bd",
   "metadata": {},
   "outputs": [],
   "source": [
    "df = data.dropna().drop_duplicates()"
   ]
  },
  {
   "cell_type": "code",
   "execution_count": 192,
   "id": "53efacc6-e600-4705-b180-3d297324a244",
   "metadata": {},
   "outputs": [],
   "source": [
    "x = data[[\"TV\", \"radio\", \"newspaper\"]]\n",
    "y = data[[\"sales\"]]"
   ]
  },
  {
   "cell_type": "code",
   "execution_count": 193,
   "id": "0ecd4299",
   "metadata": {},
   "outputs": [],
   "source": [
    "# Escalar para Ridge y Lasso\n",
    "\n",
    "X = sm.add_constant(x)\n",
    "\n",
    "scaler = StandardScaler().fit(X)\n",
    "x_scaled = scaler.transform(X)"
   ]
  },
  {
   "cell_type": "markdown",
   "id": "bccb31d8",
   "metadata": {},
   "source": [
    "## Sin penalización"
   ]
  },
  {
   "cell_type": "code",
   "execution_count": 194,
   "id": "8dcb72cd",
   "metadata": {},
   "outputs": [
    {
     "data": {
      "text/plain": [
       "array([[ 0.04576465,  0.18853002, -0.00103749]])"
      ]
     },
     "execution_count": 194,
     "metadata": {},
     "output_type": "execute_result"
    }
   ],
   "source": [
    "lr = LinearRegression()\n",
    "lr.fit(x, y)\n",
    "\n",
    "lr.coef_"
   ]
  },
  {
   "cell_type": "code",
   "execution_count": 195,
   "id": "1c2a1bbd",
   "metadata": {},
   "outputs": [
    {
     "data": {
      "text/plain": [
       "array([2.93888937])"
      ]
     },
     "execution_count": 195,
     "metadata": {},
     "output_type": "execute_result"
    }
   ],
   "source": [
    "lr.intercept_"
   ]
  },
  {
   "cell_type": "code",
   "execution_count": 196,
   "id": "fdc0dcd9",
   "metadata": {},
   "outputs": [],
   "source": [
    "y_pred_lr = lr.predict(x)"
   ]
  },
  {
   "cell_type": "code",
   "execution_count": 197,
   "id": "aa85b6d0",
   "metadata": {},
   "outputs": [],
   "source": [
    "lrr2 = r2_score(y, y_pred_lr)"
   ]
  },
  {
   "cell_type": "markdown",
   "id": "5059118a",
   "metadata": {},
   "source": [
    "**p_values**"
   ]
  },
  {
   "cell_type": "code",
   "execution_count": 198,
   "id": "40592509",
   "metadata": {},
   "outputs": [],
   "source": [
    "n = x.shape[0]\n",
    "p = x.shape[1] + 1  "
   ]
  },
  {
   "cell_type": "code",
   "execution_count": 199,
   "id": "455d66af",
   "metadata": {},
   "outputs": [],
   "source": [
    "# Hay que juntar el intercepto con las betas siguientes para poder dividir y sacar el t\n",
    "beta_hat = np.concatenate((lr.intercept_, np.ravel(lr.coef_)))\n",
    "\n",
    "RSS = np.sum((y_pred_lr - y.to_numpy())**2)\n",
    "RSE = np.sqrt(( RSS / (n-p)))\n",
    "\n",
    "var_beta = np.linalg.inv(X.T @ X) * RSE**2\n",
    "std_beta = np.sqrt(var_beta.diagonal())\n",
    "\n",
    "t_stats = beta_hat / std_beta\n",
    "p_values = 2 * (1 - stats.t.cdf(np.abs(t_stats), df=n-p))"
   ]
  },
  {
   "cell_type": "code",
   "execution_count": 200,
   "id": "883da763",
   "metadata": {},
   "outputs": [
    {
     "data": {
      "text/plain": [
       "array([0.        , 0.        , 0.        , 0.85991505])"
      ]
     },
     "execution_count": 200,
     "metadata": {},
     "output_type": "execute_result"
    }
   ],
   "source": [
    "p_values"
   ]
  },
  {
   "cell_type": "markdown",
   "id": "49afb5fe",
   "metadata": {},
   "source": [
    "## RIDGE"
   ]
  },
  {
   "cell_type": "code",
   "execution_count": 201,
   "id": "e91cfbce",
   "metadata": {},
   "outputs": [],
   "source": [
    "rd = Ridge(alpha=1)\n",
    "rd.fit(x_scaled, y)\n",
    "\n",
    "y_pred_rd = rd.predict(x_scaled)"
   ]
  },
  {
   "cell_type": "code",
   "execution_count": 202,
   "id": "f9b4de50",
   "metadata": {},
   "outputs": [],
   "source": [
    "betas = np.ravel(rd.coef_)"
   ]
  },
  {
   "cell_type": "code",
   "execution_count": 203,
   "id": "5debfe25",
   "metadata": {},
   "outputs": [],
   "source": [
    "betas[0] = rd.intercept_[0]"
   ]
  },
  {
   "cell_type": "code",
   "execution_count": 204,
   "id": "a821e8ce",
   "metadata": {},
   "outputs": [
    {
     "data": {
      "text/plain": [
       "0.8971891437493419"
      ]
     },
     "execution_count": 204,
     "metadata": {},
     "output_type": "execute_result"
    }
   ],
   "source": [
    "r2rd = r2_score(y, y_pred_rd)\n",
    "r2rd"
   ]
  },
  {
   "cell_type": "markdown",
   "id": "658d564a",
   "metadata": {},
   "source": [
    "**p_values_**"
   ]
  },
  {
   "cell_type": "code",
   "execution_count": 205,
   "id": "0fd4d12c",
   "metadata": {},
   "outputs": [
    {
     "data": {
      "text/plain": [
       "array([0.        , 0.        , 0.        , 0.00696084])"
      ]
     },
     "execution_count": 205,
     "metadata": {},
     "output_type": "execute_result"
    }
   ],
   "source": [
    "RSS = np.sum((y_pred_rd - y.to_numpy())**2)\n",
    "RSE = np.sqrt(( RSS / (n-p)))\n",
    "\n",
    "var_beta = np.linalg.inv(X.T @ X) * RSE**2\n",
    "std_beta = np.sqrt(var_beta.diagonal())\n",
    "\n",
    "t_stats = betas / std_beta\n",
    "p_values_rd = 2 * (1 - stats.t.cdf(np.abs(t_stats), df=n-p))\n",
    "\n",
    "p_values_rd"
   ]
  },
  {
   "cell_type": "code",
   "execution_count": 206,
   "id": "429a3062",
   "metadata": {},
   "outputs": [
    {
     "name": "stdout",
     "output_type": "stream",
     "text": [
      "Alpha: 1\n",
      "  Intercepto: [14.0225]\n",
      "  Coeficientes: [[ 0.          3.90021344  2.77691168 -0.0160149 ]]\n",
      "  R²: 0.8971891437493419\n",
      "----------------------------------------\n",
      "Alpha: 2\n",
      "  Intercepto: [14.0225]\n",
      "  Coeficientes: [[ 0.          3.8813594   2.76195013 -0.00963266]]\n",
      "  R²: 0.8971255841820664\n",
      "----------------------------------------\n",
      "Alpha: 3\n",
      "  Intercepto: [14.0225]\n",
      "  Coeficientes: [[ 0.00000000e+00  3.86268878e+00  2.74717418e+00 -3.38829519e-03]]\n",
      "  R²: 0.8970213093745575\n",
      "----------------------------------------\n",
      "Alpha: 4\n",
      "  Intercepto: [14.0225]\n",
      "  Coeficientes: [[0.00000000e+00 3.84419890e+00 2.73258002e+00 2.72170396e-03]]\n",
      "  R²: 0.896877623183171\n",
      "----------------------------------------\n",
      "Alpha: 5\n",
      "  Intercepto: [14.0225]\n",
      "  Coeficientes: [[0.         3.82588713 2.71816398 0.00870072]]\n",
      "  R²: 0.8966957852701762\n",
      "----------------------------------------\n",
      "Alpha: 6\n",
      "  Intercepto: [14.0225]\n",
      "  Coeficientes: [[0.         3.80775087 2.70392245 0.01455203]]\n",
      "  R²: 0.8964770128633048\n",
      "----------------------------------------\n",
      "Alpha: 7\n",
      "  Intercepto: [14.0225]\n",
      "  Coeficientes: [[0.         3.78978761 2.68985197 0.02027883]]\n",
      "  R²: 0.8962224824326719\n",
      "----------------------------------------\n",
      "Alpha: 8\n",
      "  Intercepto: [14.0225]\n",
      "  Coeficientes: [[0.         3.77199484 2.67594914 0.02588418]]\n",
      "  R²: 0.8959333312895745\n",
      "----------------------------------------\n",
      "Alpha: 9\n",
      "  Intercepto: [14.0225]\n",
      "  Coeficientes: [[0.         3.75437015 2.66221068 0.0313711 ]]\n",
      "  R²: 0.8956106591113985\n",
      "----------------------------------------\n",
      "Alpha: 10\n",
      "  Intercepto: [14.0225]\n",
      "  Coeficientes: [[0.         3.73691112 2.64863338 0.03674246]]\n",
      "  R²: 0.8952555293965975\n",
      "----------------------------------------\n"
     ]
    }
   ],
   "source": [
    "for alpha in range(1, 11):  # valores de 1 a 10\n",
    "    rd = Ridge(alpha=alpha)\n",
    "    rd.fit(x_scaled, y)\n",
    "    \n",
    "    y_pred_rd = rd.predict(x_scaled)\n",
    "    r2 = r2_score(y, y_pred_rd)\n",
    "    \n",
    "    print(f\"Alpha: {alpha}\")\n",
    "    print(f\"  Intercepto: {rd.intercept_}\")\n",
    "    print(f\"  Coeficientes: {rd.coef_}\")\n",
    "    print(f\"  R²: {r2}\")\n",
    "    print(\"-\" * 40)\n"
   ]
  },
  {
   "cell_type": "markdown",
   "id": "c421722b",
   "metadata": {},
   "source": [
    "El alpha más funcional para este modelo de Ridge es el de 1, porque noto que entre más lo aumentamos menor se hace el r2, por lo que el modelo se vuelve peor. "
   ]
  },
  {
   "cell_type": "markdown",
   "id": "11a8ec12",
   "metadata": {},
   "source": [
    "## LASSO"
   ]
  },
  {
   "cell_type": "code",
   "execution_count": 207,
   "id": "f86473ce",
   "metadata": {},
   "outputs": [],
   "source": [
    "ls = Lasso(alpha=0.1)\n",
    "ls.fit(x_scaled, y)\n",
    "\n",
    "y_pred_ls = ls.predict(x_scaled)"
   ]
  },
  {
   "cell_type": "code",
   "execution_count": 208,
   "id": "99ffd178",
   "metadata": {},
   "outputs": [
    {
     "data": {
      "text/plain": [
       "array([0.        , 3.82360787, 2.68932395, 0.        ])"
      ]
     },
     "execution_count": 208,
     "metadata": {},
     "output_type": "execute_result"
    }
   ],
   "source": [
    "ls.coef_"
   ]
  },
  {
   "cell_type": "code",
   "execution_count": 209,
   "id": "2fcbde82",
   "metadata": {},
   "outputs": [
    {
     "data": {
      "text/plain": [
       "array([14.0225])"
      ]
     },
     "execution_count": 209,
     "metadata": {},
     "output_type": "execute_result"
    }
   ],
   "source": [
    "ls.intercept_"
   ]
  },
  {
   "cell_type": "code",
   "execution_count": 210,
   "id": "e1978797",
   "metadata": {},
   "outputs": [
    {
     "data": {
      "text/plain": [
       "0.896494232900825"
      ]
     },
     "execution_count": 210,
     "metadata": {},
     "output_type": "execute_result"
    }
   ],
   "source": [
    "r2ls = r2_score(y, y_pred_ls)\n",
    "r2ls"
   ]
  },
  {
   "cell_type": "code",
   "execution_count": 211,
   "id": "3e68cdb4",
   "metadata": {},
   "outputs": [],
   "source": [
    "betas = np.ravel(ls.coef_)\n",
    "betas[0] = ls.intercept_[0]"
   ]
  },
  {
   "cell_type": "code",
   "execution_count": 212,
   "id": "38b7d15e",
   "metadata": {},
   "outputs": [
    {
     "data": {
      "text/plain": [
       "array([4.54363523e-01, 0.00000000e+00, 4.81653927e-07, 1.00000000e+00])"
      ]
     },
     "execution_count": 212,
     "metadata": {},
     "output_type": "execute_result"
    }
   ],
   "source": [
    "RSS = np.sum((y_pred_ls - y.to_numpy())**2)\n",
    "RSE = np.sqrt(( RSS / (n-p)))\n",
    "\n",
    "var_beta = np.linalg.inv(X.T @ X) * RSE**2\n",
    "std_beta = np.sqrt(var_beta.diagonal())\n",
    "\n",
    "t_stats = betas / std_beta\n",
    "p_values_ls = 2 * (1 - stats.t.cdf(np.abs(t_stats), df=n-p))\n",
    "\n",
    "p_values_ls"
   ]
  },
  {
   "cell_type": "code",
   "execution_count": 213,
   "id": "9dbcbcba",
   "metadata": {},
   "outputs": [],
   "source": [
    "pd.set_option(\"display.float_format\", \"{:.8f}\".format)"
   ]
  },
  {
   "cell_type": "code",
   "execution_count": 165,
   "id": "1b4774e3",
   "metadata": {
    "scrolled": true
   },
   "outputs": [
    {
     "data": {
      "text/html": [
       "<div>\n",
       "<style scoped>\n",
       "    .dataframe tbody tr th:only-of-type {\n",
       "        vertical-align: middle;\n",
       "    }\n",
       "\n",
       "    .dataframe tbody tr th {\n",
       "        vertical-align: top;\n",
       "    }\n",
       "\n",
       "    .dataframe thead th {\n",
       "        text-align: right;\n",
       "    }\n",
       "</style>\n",
       "<table border=\"1\" class=\"dataframe\">\n",
       "  <thead>\n",
       "    <tr style=\"text-align: right;\">\n",
       "      <th></th>\n",
       "      <th>Variable</th>\n",
       "      <th>OLS</th>\n",
       "      <th>Ridge</th>\n",
       "      <th>Lasso</th>\n",
       "    </tr>\n",
       "  </thead>\n",
       "  <tbody>\n",
       "    <tr>\n",
       "      <th>0</th>\n",
       "      <td>Intercepto</td>\n",
       "      <td>2.93888937</td>\n",
       "      <td>14.02250000</td>\n",
       "      <td>14.02250000</td>\n",
       "    </tr>\n",
       "    <tr>\n",
       "      <th>1</th>\n",
       "      <td>TV</td>\n",
       "      <td>0.04576465</td>\n",
       "      <td>3.73691112</td>\n",
       "      <td>14.02250000</td>\n",
       "    </tr>\n",
       "    <tr>\n",
       "      <th>2</th>\n",
       "      <td>radio</td>\n",
       "      <td>0.18853002</td>\n",
       "      <td>2.64863338</td>\n",
       "      <td>3.82360787</td>\n",
       "    </tr>\n",
       "    <tr>\n",
       "      <th>3</th>\n",
       "      <td>newspaper</td>\n",
       "      <td>-0.00103749</td>\n",
       "      <td>0.03674246</td>\n",
       "      <td>2.68932395</td>\n",
       "    </tr>\n",
       "  </tbody>\n",
       "</table>\n",
       "</div>"
      ],
      "text/plain": [
       "     Variable         OLS       Ridge       Lasso\n",
       "0  Intercepto  2.93888937 14.02250000 14.02250000\n",
       "1          TV  0.04576465  3.73691112 14.02250000\n",
       "2       radio  0.18853002  2.64863338  3.82360787\n",
       "3   newspaper -0.00103749  0.03674246  2.68932395"
      ]
     },
     "execution_count": 165,
     "metadata": {},
     "output_type": "execute_result"
    }
   ],
   "source": [
    "resultados = pd.DataFrame({\n",
    "    \"Variable\" : [\"Intercepto\", \"TV\", \"radio\", \"newspaper\"],\n",
    "    \"OLS\" : [results.params[0]] + [results.params[1]] + [results.params[2]] + [results.params[3]],\n",
    "    \"Ridge\" : [rd.intercept_[0]] + [rd.coef_[0,1]] + [rd.coef_[0,2]] + [rd.coef_[0,3]],\n",
    "    \"Lasso\" : [ls.intercept_[0]] + [ls.coef_[0]] + [ls.coef_[1]] + [ls.coef_[2]]\n",
    "})\n",
    "\n",
    "resultados"
   ]
  },
  {
   "cell_type": "code",
   "execution_count": 221,
   "id": "068ffdf3",
   "metadata": {},
   "outputs": [
    {
     "data": {
      "text/html": [
       "<div>\n",
       "<style scoped>\n",
       "    .dataframe tbody tr th:only-of-type {\n",
       "        vertical-align: middle;\n",
       "    }\n",
       "\n",
       "    .dataframe tbody tr th {\n",
       "        vertical-align: top;\n",
       "    }\n",
       "\n",
       "    .dataframe thead th {\n",
       "        text-align: right;\n",
       "    }\n",
       "</style>\n",
       "<table border=\"1\" class=\"dataframe\">\n",
       "  <thead>\n",
       "    <tr style=\"text-align: right;\">\n",
       "      <th></th>\n",
       "      <th>p_values</th>\n",
       "      <th>LinearRegression</th>\n",
       "      <th>Ridge</th>\n",
       "      <th>Lasso</th>\n",
       "    </tr>\n",
       "  </thead>\n",
       "  <tbody>\n",
       "    <tr>\n",
       "      <th>0</th>\n",
       "      <td>Intercepto</td>\n",
       "      <td>0.00000000</td>\n",
       "      <td>0.00000000</td>\n",
       "      <td>0.45436352</td>\n",
       "    </tr>\n",
       "    <tr>\n",
       "      <th>1</th>\n",
       "      <td>TV</td>\n",
       "      <td>0.00000000</td>\n",
       "      <td>0.00000000</td>\n",
       "      <td>0.00000000</td>\n",
       "    </tr>\n",
       "    <tr>\n",
       "      <th>2</th>\n",
       "      <td>radio</td>\n",
       "      <td>0.00000000</td>\n",
       "      <td>0.00000000</td>\n",
       "      <td>0.00000048</td>\n",
       "    </tr>\n",
       "    <tr>\n",
       "      <th>3</th>\n",
       "      <td>newspaper</td>\n",
       "      <td>0.85991505</td>\n",
       "      <td>0.00696084</td>\n",
       "      <td>1.00000000</td>\n",
       "    </tr>\n",
       "  </tbody>\n",
       "</table>\n",
       "</div>"
      ],
      "text/plain": [
       "     p_values  LinearRegression      Ridge      Lasso\n",
       "0  Intercepto        0.00000000 0.00000000 0.45436352\n",
       "1          TV        0.00000000 0.00000000 0.00000000\n",
       "2       radio        0.00000000 0.00000000 0.00000048\n",
       "3   newspaper        0.85991505 0.00696084 1.00000000"
      ]
     },
     "execution_count": 221,
     "metadata": {},
     "output_type": "execute_result"
    }
   ],
   "source": [
    "p_values = pd.DataFrame({\n",
    "    \"p_values\" : [\"Intercepto\", \"TV\", \"radio\", \"newspaper\"],\n",
    "    \"LinearRegression\" : [p_values[0]] + [p_values[1]] + [p_values[2]] + [p_values[3]],\n",
    "    \"Ridge\" : [p_values_rd[0]] + [p_values_rd[1]] + [p_values_rd[2]] + [p_values_rd[3]],\n",
    "    \"Lasso\" : [p_values_ls[0]] + [p_values_ls[1]] + [p_values_ls[2]] + [p_values_ls[3]]\n",
    "})\n",
    "\n",
    "p_values"
   ]
  },
  {
   "cell_type": "code",
   "execution_count": 17,
   "id": "4fb0dfb5",
   "metadata": {},
   "outputs": [
    {
     "data": {
      "text/html": [
       "<div>\n",
       "<style scoped>\n",
       "    .dataframe tbody tr th:only-of-type {\n",
       "        vertical-align: middle;\n",
       "    }\n",
       "\n",
       "    .dataframe tbody tr th {\n",
       "        vertical-align: top;\n",
       "    }\n",
       "\n",
       "    .dataframe thead th {\n",
       "        text-align: right;\n",
       "    }\n",
       "</style>\n",
       "<table border=\"1\" class=\"dataframe\">\n",
       "  <thead>\n",
       "    <tr style=\"text-align: right;\">\n",
       "      <th></th>\n",
       "      <th>Modelo</th>\n",
       "      <th>R²</th>\n",
       "    </tr>\n",
       "  </thead>\n",
       "  <tbody>\n",
       "    <tr>\n",
       "      <th>0</th>\n",
       "      <td>OLS</td>\n",
       "      <td>0.89721064</td>\n",
       "    </tr>\n",
       "    <tr>\n",
       "      <th>1</th>\n",
       "      <td>Ridge</td>\n",
       "      <td>0.89718914</td>\n",
       "    </tr>\n",
       "    <tr>\n",
       "      <th>2</th>\n",
       "      <td>Lasso</td>\n",
       "      <td>0.89721042</td>\n",
       "    </tr>\n",
       "  </tbody>\n",
       "</table>\n",
       "</div>"
      ],
      "text/plain": [
       "  Modelo         R²\n",
       "0    OLS 0.89721064\n",
       "1  Ridge 0.89718914\n",
       "2  Lasso 0.89721042"
      ]
     },
     "execution_count": 17,
     "metadata": {},
     "output_type": "execute_result"
    }
   ],
   "source": [
    "r2_df = pd.DataFrame({\n",
    "    \"Modelo\": [\"OLS\", \"Ridge\", \"Lasso\"],\n",
    "    \"R²\": [results.rsquared, r2rd, r2ls]\n",
    "})\n",
    "r2_df"
   ]
  },
  {
   "cell_type": "markdown",
   "id": "34f3e5e3",
   "metadata": {},
   "source": [
    "### Conclusiones"
   ]
  },
  {
   "cell_type": "markdown",
   "id": "6de7a9cb",
   "metadata": {},
   "source": [
    "Le voy a ser sincero. En la actividad sí hice uso de chat, pero más que nada para encargarme de entender todo. \n",
    "Al principio no entendía el formato en el que debía de utilizar Ridge y Lasso. Luego me di cuenta que es igual que LinearRegression lo cual lo hizo más simple. Sin embargo, veo que en estos dos modelos es importante escalar los datos para que la penaización no afecte demasiado a los coeficientes. Y bueno ya lo demás era igual entonces ahí lo comprendí bien. Y en la parte de interpretación de los resultados:\n",
    "\n",
    "En el modelo OLS los p_values nos indican que las variables TV y radio son significativamente importantes para el modelo, pero newspaper tiene un p_value muy alto, lo que indica que no llega a ser relevante para las sales. Justo algo que ya habíamos visto en clases pasadas, y que al hacer regresión por separada ahí si parecería ser importante, cosa que en la regresión múltiple cambió.\n",
    "\n",
    "Los resultados de Ridge y Lasso son meramente parecidos, tanto en coeficientes como intercepto. Aunque el r2 sale más alto en Lasso, quedando en segundo lugar después de OSL.\n",
    "\n",
    "Algo que me llamó la atención fue que el intercepto en Ridge y Lasso son muy altos, casi 7 veces más alto que en OSL. Esto porque en la penalización el intercepto no se afecta. Los coeficiente se achican y ese aumenta para controlar la alteración.\n",
    "\n",
    "Y bueno, en todos los modelos nos damos cuenta de que el periódico no es muy relevante para determinar las ventas, y no solo eso, sino que afecta de forma negativa. Pienso que esto puede ser a razón de que ya es un medio publicitario que día con día se utiliza menos, por lo que es un gasto que vale la pena removerlo. \n",
    "\n",
    "Y para terminar, vemos que OLS es el modelo que mejor se ajusta gracias al R2, aunque bueno, la diferencia es muy poca. Además, en el modelo OLS la radio llega a ser más importante que la TV y en los otros dos modelos es lo contrario.\n",
    "Yo me iría por el modelo Lasso. Me parece el más eficiente y congruente, ya que yo consideraría que es más importante la TV que la radio también. "
   ]
  }
 ],
 "metadata": {
  "kernelspec": {
   "display_name": "Python 3 (ipykernel)",
   "language": "python",
   "name": "python3"
  },
  "language_info": {
   "codemirror_mode": {
    "name": "ipython",
    "version": 3
   },
   "file_extension": ".py",
   "mimetype": "text/x-python",
   "name": "python",
   "nbconvert_exporter": "python",
   "pygments_lexer": "ipython3",
   "version": "3.11.4"
  }
 },
 "nbformat": 4,
 "nbformat_minor": 5
}
