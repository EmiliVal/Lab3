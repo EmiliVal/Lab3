{
 "cells": [
  {
   "cell_type": "markdown",
   "id": "c191c972-2c85-4284-a555-7db618ba5b26",
   "metadata": {},
   "source": [
    "# Laboratorio de regresión logística"
   ]
  },
  {
   "cell_type": "markdown",
   "id": "e11c177c-1848-44b0-8c6b-b35537b5ae2f",
   "metadata": {},
   "source": [
    "|                |   |\n",
    ":----------------|---|\n",
    "| **Nombre**     |  Emiliano Valderrama del Toro |\n",
    "| **Fecha**      |  09/10/2025 |\n",
    "| **Expediente** |  744673 | "
   ]
  },
  {
   "cell_type": "markdown",
   "id": "4b95344a-b10c-465d-a5f4-bfa65905420c",
   "metadata": {},
   "source": [
    "In machine learning, Support Vector Machines (SVM) are supervised learning models with associated learning algorithms that analyze data used for classification and regression analysis. It is mostly used in classification problems. In this algorithm, each data item is plotted as a point in p-dimensional space (where p is the number of features), with the value of each feature being the value of a particular coordinate. Then, classification is performed by finding the hyper-plane that best differentiates the two classes (or more if we have a multi class problem):\n",
    "\n",
    "$$ f(x) = w^T \\varphi(x) + b $$\n",
    "\n",
    "where $\\varphi: X \\rightarrow F $ is a function that makes each input point $x$ correspond to a point in F, where F is a Hilbert space.\n",
    "\n",
    "In addition to performing linear classification, SVMs can efficiently perform a non-linear classification, implicitly mapping their inputs into high-dimensional feature spaces (more specifically using the kernel trick, like the RBF funcion). \n",
    "\n",
    "[1]\n",
    "\n",
    "OLS utilizes the squared residuals to fit the parameters. Large residuals caused by outliers may worsen the accuracy significantly.\n",
    "\n",
    "Support Vectors use piecewise linear functions to counter this, in which a hyperparameter  $\\epsilon$ called the margin lets errors that are less or equal to it be 0, and error larger than it be $e - \\epsilon$. \n",
    "\n",
    "The problem to solve is:\n",
    "\n",
    "\\begin{split}\n",
    "        \\min_{w, b, \\xi, \\xi^*} \\mathcal{P}_\\epsilon(w, b, \\xi) &= \\frac{1}{2} w^T w + c \\sum_{k=1}^{N} \\xi_k \\\\\n",
    "        \\text{s.t. } & y_k [w^T \\varphi(x_k) - b] \\geq 1- \\xi_k,\\ \\ k = 1, ..., N \\\\\n",
    "        & \\xi_k \\geq 0,\\ \\ k = 1, ..., N\n",
    "\\end{split}\n",
    "\n",
    "\n",
    "The most important question that arises when using a SVM is how to choose the correct hyperplane. Consider the following scenarios:"
   ]
  },
  {
   "cell_type": "markdown",
   "id": "ffd4c629-c547-433d-90ff-852a1e722a95",
   "metadata": {},
   "source": [
    "### Scenario 1\n",
    "\n",
    "In this scenario there are three hyperplanes called A, B, and C. Now, the problem is to identify the hyperplane which best differentiates the stars and the circles.\n",
    "\n",
    "<center><img src=\"https://media.geeksforgeeks.org/wp-content/uploads/SVM_21-2.png\" alt=\"what image shows\"></center>\n",
    "\n",
    "In this case, hyperplane B separates the stars and the circle betters, hence it is the correct hyperplane.\n"
   ]
  },
  {
   "cell_type": "markdown",
   "id": "3d158b5b-99f1-435a-9b91-0d8a17363bce",
   "metadata": {},
   "source": [
    "### Scenario 2\n",
    "\n",
    "Now take another scenario where all three hyperplanes are segregating classes well. The question that arises is how to choose the best hyperplane in this situation.\n",
    "\n",
    "<center><img src=\"https://media.geeksforgeeks.org/wp-content/uploads/SVM_4-2.png\" alt=\"what image shows\"></center>\n",
    "\n",
    "In such scenarios, we calculate the margin (which is the distance between nearest data point and the hyperplane). The hyperplane with the largest margin will be considered as the correct hyperplane to classify the dataset.\n",
    "\n",
    "Here C has the largest margin. Hence, it is considered as the best hyperplane.\n"
   ]
  },
  {
   "cell_type": "markdown",
   "id": "d4ae4b6d-e3fe-4496-8f7a-242697fb058e",
   "metadata": {},
   "source": [
    "### Kernels\n",
    "Knowing \n",
    "$$ w = \\sum_{k=1}^{N} \\alpha_k y_k \\varphi(x_k) $$\n",
    "\n",
    "And\n",
    "$$ y_{pred} = w^T \\varphi(x) + b $$\n",
    "\n",
    "Then \n",
    "$$ y_{pred} = (\\sum_{k=1}^{N} \\alpha_k y_k \\varphi(x_k))^T \\varphi(x) + b $$\n",
    "\n",
    "Where $\\varphi$ is a function that makes each input in $x$ correspond to a point in $F$ (a Hilbert space). This can be seen as processing and transforming the input featuers to keep the model's convexity. [2]\n",
    "\n",
    "This also allows us to transform the inputs into another space where they might be more easily classified.\n",
    "\n",
    "<center><img src=https://miro.medium.com/max/838/1*gXvhD4IomaC9Jb37tzDUVg.png alt=\"what image shows\"></center>"
   ]
  },
  {
   "cell_type": "markdown",
   "id": "d8cdd455-cb0d-477c-84a8-326453792426",
   "metadata": {},
   "source": [
    "## ROC and AUC\n",
    "\n",
    "A ROC (Receiver Operating Characteristic) is a graph that shows how the classification model performs at the classification thresholds. \n",
    "\n",
    "ROC curves typically feature true positive rate on the Y axis, and false positive rate on the X axis. This means that the top left corner of the plot is the “ideal” point - a false positive rate of zero, and a true positive rate of one. This is not very realistic, but it does mean that a larger area under the curve (AUC) is usually better. [3]\n",
    "\n",
    "True Positive Rate is a synonym for Recall and defined as:\n",
    "$$ TPR = \\frac{TP}{TP + FN} $$\n",
    "\n",
    "False Positive Rate is a synonym for Specificity and defined as:\n",
    "\n",
    "$$ FPR = \\frac{FP}{FP + TN} $$\n",
    "\n",
    "ROC curves are typically used in binary classification to study the output of a classifier. In order to extend ROC curve and ROC area to multi-label classification, it is necessary to binarize the output. One ROC curve can be drawn per label, but one can also draw a ROC curve by considering each element of the label indicator matrix as a binary prediction (micro-averaging).\n",
    "\n",
    "E.g. If you lower a classification threshold, more items would be classified as positive, increasing False Positives and True Positives.\n",
    "\n",
    "AUC stands for Area under the ROC."
   ]
  },
  {
   "cell_type": "markdown",
   "id": "3ce8fe3e-dca0-4f66-94c6-18f3545cb865",
   "metadata": {},
   "source": [
    "## Ejercicio 1"
   ]
  },
  {
   "cell_type": "markdown",
   "id": "ca93403a-dc07-4059-8e97-991e98d8caf4",
   "metadata": {},
   "source": [
    "- Utiliza el dataset `Iris`, modela con SVC y haz Cross-Validation de diferentes kernels ('linear', 'poly', 'rbf', 'sigmoid').\n",
    "- Modela con LogisticRegression.\n",
    "- El método de Cross-Validation es K-Folds con $k=10$.\n",
    "- Utiliza el AUC como métrico de Cross-Validation.\n",
    "- Compara resultados."
   ]
  },
  {
   "cell_type": "code",
   "execution_count": 20,
   "id": "c574e2b0",
   "metadata": {},
   "outputs": [],
   "source": [
    "from sklearn.datasets import load_iris\n",
    "from sklearn.model_selection import KFold, cross_val_score\n",
    "from sklearn.svm import SVC\n",
    "from sklearn.preprocessing import StandardScaler\n",
    "import numpy as np\n",
    "import pandas as pd"
   ]
  },
  {
   "cell_type": "code",
   "execution_count": 15,
   "id": "b428a81a",
   "metadata": {},
   "outputs": [
    {
     "data": {
      "text/html": [
       "<div>\n",
       "<style scoped>\n",
       "    .dataframe tbody tr th:only-of-type {\n",
       "        vertical-align: middle;\n",
       "    }\n",
       "\n",
       "    .dataframe tbody tr th {\n",
       "        vertical-align: top;\n",
       "    }\n",
       "\n",
       "    .dataframe thead th {\n",
       "        text-align: right;\n",
       "    }\n",
       "</style>\n",
       "<table border=\"1\" class=\"dataframe\">\n",
       "  <thead>\n",
       "    <tr style=\"text-align: right;\">\n",
       "      <th></th>\n",
       "      <th>sepal length (cm)</th>\n",
       "      <th>sepal width (cm)</th>\n",
       "      <th>petal length (cm)</th>\n",
       "      <th>petal width (cm)</th>\n",
       "      <th>species</th>\n",
       "    </tr>\n",
       "  </thead>\n",
       "  <tbody>\n",
       "    <tr>\n",
       "      <th>0</th>\n",
       "      <td>5.1</td>\n",
       "      <td>3.5</td>\n",
       "      <td>1.4</td>\n",
       "      <td>0.2</td>\n",
       "      <td>0</td>\n",
       "    </tr>\n",
       "    <tr>\n",
       "      <th>1</th>\n",
       "      <td>4.9</td>\n",
       "      <td>3.0</td>\n",
       "      <td>1.4</td>\n",
       "      <td>0.2</td>\n",
       "      <td>0</td>\n",
       "    </tr>\n",
       "    <tr>\n",
       "      <th>2</th>\n",
       "      <td>4.7</td>\n",
       "      <td>3.2</td>\n",
       "      <td>1.3</td>\n",
       "      <td>0.2</td>\n",
       "      <td>0</td>\n",
       "    </tr>\n",
       "    <tr>\n",
       "      <th>3</th>\n",
       "      <td>4.6</td>\n",
       "      <td>3.1</td>\n",
       "      <td>1.5</td>\n",
       "      <td>0.2</td>\n",
       "      <td>0</td>\n",
       "    </tr>\n",
       "    <tr>\n",
       "      <th>4</th>\n",
       "      <td>5.0</td>\n",
       "      <td>3.6</td>\n",
       "      <td>1.4</td>\n",
       "      <td>0.2</td>\n",
       "      <td>0</td>\n",
       "    </tr>\n",
       "  </tbody>\n",
       "</table>\n",
       "</div>"
      ],
      "text/plain": [
       "   sepal length (cm)  sepal width (cm)  petal length (cm)  petal width (cm)  \\\n",
       "0                5.1               3.5                1.4               0.2   \n",
       "1                4.9               3.0                1.4               0.2   \n",
       "2                4.7               3.2                1.3               0.2   \n",
       "3                4.6               3.1                1.5               0.2   \n",
       "4                5.0               3.6                1.4               0.2   \n",
       "\n",
       "   species  \n",
       "0        0  \n",
       "1        0  \n",
       "2        0  \n",
       "3        0  \n",
       "4        0  "
      ]
     },
     "execution_count": 15,
     "metadata": {},
     "output_type": "execute_result"
    }
   ],
   "source": [
    "df = pd.DataFrame(iris.data, columns=iris.feature_names)\n",
    "df['species'] = iris.target\n",
    "\n",
    "df.head()"
   ]
  },
  {
   "cell_type": "code",
   "execution_count": 22,
   "id": "59bd74d1",
   "metadata": {},
   "outputs": [],
   "source": [
    "x = iris.data\n",
    "y = iris.target\n",
    "\n",
    "scaler = StandardScaler()\n",
    "X_scaled = scaler.fit_transform(x)"
   ]
  },
  {
   "cell_type": "code",
   "execution_count": 25,
   "id": "dedae7bb-ce63-4f38-aeb1-353c7f579909",
   "metadata": {},
   "outputs": [
    {
     "name": "stdout",
     "output_type": "stream",
     "text": [
      "Kernel: linear  -> AUC promedio: 1.0000\n",
      "Kernel: poly    -> AUC promedio: 1.0000\n",
      "Kernel: rbf     -> AUC promedio: 0.9959\n",
      "Kernel: sigmoid -> AUC promedio: 0.9837\n"
     ]
    }
   ],
   "source": [
    "kf = KFold(n_splits=10, shuffle=True, random_state=42)\n",
    "\n",
    "kernels = ['linear', 'poly', 'rbf', 'sigmoid']\n",
    "\n",
    "for kernel in kernels:\n",
    "    model = SVC(kernel=kernel, probability=True)\n",
    "    scores = cross_val_score(model, X_scaled, y, cv=kf, scoring='roc_auc_ovr')\n",
    "    print(f\"Kernel: {kernel:7s} -> AUC promedio: {np.mean(scores):.4f}\")"
   ]
  },
  {
   "cell_type": "code",
   "execution_count": 26,
   "id": "58d8cbe1",
   "metadata": {},
   "outputs": [
    {
     "name": "stdout",
     "output_type": "stream",
     "text": [
      "\n",
      "🔹 Resultado de Regresión Logística:\n",
      "AUC promedio: 0.9877\n"
     ]
    }
   ],
   "source": [
    "log_model = LogisticRegression(max_iter=1000, multi_class='ovr')\n",
    "log_scores = cross_val_score(log_model, X_scaled, y, cv=kf, scoring='roc_auc_ovr')\n",
    "\n",
    "print(\"\\n🔹 Resultado de Regresión Logística:\")\n",
    "print(f\"AUC promedio: {np.mean(log_scores):.4f}\")"
   ]
  },
  {
   "cell_type": "markdown",
   "id": "150d0255",
   "metadata": {},
   "source": [
    "Al comparar los modelos utilizados, tanto de kernels como de la regresión logística vemos que el mayor AUC que obtuvimos fue con rbf, el cual es un kernel que favorece mucho el tipo de frontera que se generea, al ser una curva suave y felxible. Después tenemos nuestra regresión logística con 0.987. \n",
    "Cabe indicar que el data set es un df básico y simple, por ello que también el modelo de regresión logística nos dio muy cercano a uno, porque éste se caracteriza por medir bien datasets sencillos, y si aumenta la complejidad es mejor utilizar Kernels. Lo mismo podemos concluir por haber obtenido 1 los kernels de linear y poly, puesto que al ser un conjunto de datos sencillo, la creación de la frontera no es muy complicada. "
   ]
  },
  {
   "cell_type": "markdown",
   "id": "c7e26d1b-1bd2-4839-a743-a63f6b258a42",
   "metadata": {},
   "source": [
    "## Ejercicio 2\n",
    "- Repite el ejercicio 1 con el dataset `Default`. Utiliza `default` como target."
   ]
  },
  {
   "cell_type": "code",
   "execution_count": 34,
   "id": "ea0bb2af-09ae-4056-aa6f-f15289ae1f0d",
   "metadata": {},
   "outputs": [
    {
     "data": {
      "text/html": [
       "<div>\n",
       "<style scoped>\n",
       "    .dataframe tbody tr th:only-of-type {\n",
       "        vertical-align: middle;\n",
       "    }\n",
       "\n",
       "    .dataframe tbody tr th {\n",
       "        vertical-align: top;\n",
       "    }\n",
       "\n",
       "    .dataframe thead th {\n",
       "        text-align: right;\n",
       "    }\n",
       "</style>\n",
       "<table border=\"1\" class=\"dataframe\">\n",
       "  <thead>\n",
       "    <tr style=\"text-align: right;\">\n",
       "      <th></th>\n",
       "      <th>default</th>\n",
       "      <th>student</th>\n",
       "      <th>balance</th>\n",
       "      <th>income</th>\n",
       "    </tr>\n",
       "  </thead>\n",
       "  <tbody>\n",
       "    <tr>\n",
       "      <th>0</th>\n",
       "      <td>No</td>\n",
       "      <td>No</td>\n",
       "      <td>729.526495</td>\n",
       "      <td>44361.625074</td>\n",
       "    </tr>\n",
       "    <tr>\n",
       "      <th>1</th>\n",
       "      <td>No</td>\n",
       "      <td>Yes</td>\n",
       "      <td>817.180407</td>\n",
       "      <td>12106.134700</td>\n",
       "    </tr>\n",
       "    <tr>\n",
       "      <th>2</th>\n",
       "      <td>No</td>\n",
       "      <td>No</td>\n",
       "      <td>1073.549164</td>\n",
       "      <td>31767.138950</td>\n",
       "    </tr>\n",
       "    <tr>\n",
       "      <th>3</th>\n",
       "      <td>No</td>\n",
       "      <td>No</td>\n",
       "      <td>529.250605</td>\n",
       "      <td>35704.493940</td>\n",
       "    </tr>\n",
       "    <tr>\n",
       "      <th>4</th>\n",
       "      <td>No</td>\n",
       "      <td>No</td>\n",
       "      <td>785.655883</td>\n",
       "      <td>38463.495880</td>\n",
       "    </tr>\n",
       "  </tbody>\n",
       "</table>\n",
       "</div>"
      ],
      "text/plain": [
       "  default student      balance        income\n",
       "0      No      No   729.526495  44361.625074\n",
       "1      No     Yes   817.180407  12106.134700\n",
       "2      No      No  1073.549164  31767.138950\n",
       "3      No      No   529.250605  35704.493940\n",
       "4      No      No   785.655883  38463.495880"
      ]
     },
     "execution_count": 34,
     "metadata": {},
     "output_type": "execute_result"
    }
   ],
   "source": [
    "data = pd.read_csv(\"Default.csv\")\n",
    "data.head()"
   ]
  },
  {
   "cell_type": "code",
   "execution_count": 31,
   "id": "44c9b2d2-236f-4a1e-b9dc-fabe78fd8332",
   "metadata": {},
   "outputs": [],
   "source": [
    "data['default'] = data['default'].map({'No':0, 'Yes':1})\n",
    "\n",
    "data = pd.get_dummies(data, columns=['student'], drop_first=True)\n",
    "\n",
    "x =  data.drop(\"default\", axis=1)\n",
    "y = data['default']\n",
    "\n",
    "scaler = StandardScaler()\n",
    "X_scaled = scaler.fit_transform(x)"
   ]
  },
  {
   "cell_type": "code",
   "execution_count": 32,
   "id": "0f51dd70-7125-4c3f-a5f3-0f2e56cea8da",
   "metadata": {},
   "outputs": [
    {
     "name": "stdout",
     "output_type": "stream",
     "text": [
      "Kernel: linear  -> AUC promedio: 0.9222\n",
      "Kernel: poly    -> AUC promedio: 0.8748\n",
      "Kernel: rbf     -> AUC promedio: 0.8395\n",
      "Kernel: sigmoid -> AUC promedio: 0.7372\n"
     ]
    }
   ],
   "source": [
    "for kernel in kernels:\n",
    "    model = SVC(kernel=kernel, probability=True)\n",
    "    scores = cross_val_score(model, X_scaled, y, cv=kf, scoring='roc_auc_ovr')\n",
    "    print(f\"Kernel: {kernel:7s} -> AUC promedio: {np.mean(scores):.4f}\")"
   ]
  },
  {
   "cell_type": "code",
   "execution_count": 35,
   "id": "fbeecc58",
   "metadata": {},
   "outputs": [
    {
     "name": "stdout",
     "output_type": "stream",
     "text": [
      "\n",
      "🔹 Resultado de Regresión Logística:\n",
      "AUC promedio: 0.9491\n"
     ]
    }
   ],
   "source": [
    "log_model = LogisticRegression(max_iter=1000, multi_class='ovr')\n",
    "log_scores = cross_val_score(log_model, X_scaled, y, cv=kf, scoring='roc_auc_ovr')\n",
    "\n",
    "print(\"\\n🔹 Resultado de Regresión Logística:\")\n",
    "print(f\"AUC promedio: {np.mean(log_scores):.4f}\")"
   ]
  },
  {
   "cell_type": "markdown",
   "id": "eb365937",
   "metadata": {},
   "source": [
    "Al tener muchos más datos en el data set de Default noté que para sacar los kernels si se tardó mucho el código en correr, pero al final obtuvimos los resultados. \n",
    "Nuestro mejor modelo fue el de regresión logística. Aquí yo tenía unas cuantas dudas; pensaba: si los kernels rbf y sigmoid analizan mejor la complejidad de los data sets y hacen un mejor ajuste ¿no deberían darnos un mejor resultado? El tema aquí es que de nuevo, nuestro data set no es muy complejo. Solamente tenemos 4 variables y no es necesario el uso de modelos complejos porque lo único que hacen es generar ruido y bajar la precisión. En cambio, el de regresión logística, al ser un modelo más enfocado en rapidez y sencillez, el data set Default encaja bien con sus parámetros y eso nos arroja un buen resultado de nuestra área bajo la curva (AUC)."
   ]
  },
  {
   "cell_type": "markdown",
   "id": "138473b9-3a81-43cb-83a5-a362e535b736",
   "metadata": {},
   "source": [
    "# Addendum\n",
    "\n",
    "Métricos disponibles para clasificación:\n",
    "- ‘accuracy’\n",
    "- ‘balanced_accuracy’\n",
    "- ‘top_k_accuracy’\n",
    "- ‘average_precision’\n",
    "- ‘neg_brier_score’\n",
    "- ‘f1’\n",
    "- ‘f1_micro’\n",
    "- ‘f1_macro’\n",
    "- ‘f1_weighted’\n",
    "- ‘f1_samples’\n",
    "- ‘neg_log_loss’\n",
    "- ‘precision’ etc.\n",
    "- ‘recall’ etc.\n",
    "- ‘jaccard’ etc.\n",
    "- ‘roc_auc’\n",
    "- ‘roc_auc_ovr’\n",
    "- ‘roc_auc_ovo’\n",
    "- ‘roc_auc_ovr_weighted’\n",
    "- ‘roc_auc_ovo_weighted’\n",
    "- ‘d2_log_loss_score’"
   ]
  },
  {
   "cell_type": "markdown",
   "id": "e68a114d-84df-46fc-b1fb-4729410bdb5f",
   "metadata": {},
   "source": [
    "# References\n",
    "\n",
    "[1] Shigeo Abe.Support Vector Machines for Pattern Classification,2Ed.Springer-Verlag London,2010. ISBN978-1-84996-097-7. URLhttps://www.springer.com/gp/book/9781849960977.\n",
    "\n",
    "[2] Johan A K Suykens, Tony Van Gestel, Jos De Brabanter, BartDe Moor, and Joos Vandewalle.Least Squares Support VectorMachines. World Scientific,2002. ISBN9789812381514. URLhttps://www.worldscientific.com/worldscibooks/10.1142/5089.\n",
    "\n",
    "[3] Bradley, A. P. (1997). The use of the area under the ROC curve in the evaluation of machine learning algorithms. Pattern recognition, 30(7), 1145-1159. URL https://www.researchgate.net/post/how_can_I_interpret_the_ROC_curve_result"
   ]
  }
 ],
 "metadata": {
  "kernelspec": {
   "display_name": "Python 3 (ipykernel)",
   "language": "python",
   "name": "python3"
  },
  "language_info": {
   "codemirror_mode": {
    "name": "ipython",
    "version": 3
   },
   "file_extension": ".py",
   "mimetype": "text/x-python",
   "name": "python",
   "nbconvert_exporter": "python",
   "pygments_lexer": "ipython3",
   "version": "3.11.4"
  }
 },
 "nbformat": 4,
 "nbformat_minor": 5
}
